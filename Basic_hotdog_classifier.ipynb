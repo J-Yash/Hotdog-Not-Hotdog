{
 "cells": [
  {
   "cell_type": "markdown",
   "metadata": {},
   "source": [
    "# Hotdog/Not-Hotdog Classifier Without Transfer Learning"
   ]
  },
  {
   "cell_type": "code",
   "execution_count": 1,
   "metadata": {},
   "outputs": [
    {
     "name": "stderr",
     "output_type": "stream",
     "text": [
      "Using TensorFlow backend.\n"
     ]
    }
   ],
   "source": [
    "import os\n",
    "\n",
    "import numpy as np\n",
    "import pandas as pd\n",
    "import cv2\n",
    "import matplotlib.pyplot as plt\n",
    "import keras\n",
    "from keras.preprocessing.image import ImageDataGenerator\n",
    "from keras.models import Sequential\n",
    "from keras.layers import Dense, Activation, Conv2D, Flatten, Dropout, MaxPooling2D\n",
    "from keras.callbacks import ModelCheckpoint"
   ]
  },
  {
   "cell_type": "code",
   "execution_count": 2,
   "metadata": {},
   "outputs": [],
   "source": [
    "keras.backend.clear_session()"
   ]
  },
  {
   "cell_type": "markdown",
   "metadata": {},
   "source": [
    "## Create ImageDataGenerator for real-time data augmentation in Keras"
   ]
  },
  {
   "cell_type": "code",
   "execution_count": 3,
   "metadata": {},
   "outputs": [
    {
     "name": "stdout",
     "output_type": "stream",
     "text": [
      "Found 2700 images belonging to 2 classes.\n",
      "Found 300 images belonging to 2 classes.\n",
      "Found 644 images belonging to 2 classes.\n"
     ]
    }
   ],
   "source": [
    "train_datagen = ImageDataGenerator(\n",
    "        rescale=1./255,\n",
    "        shear_range=0.2,\n",
    "        zoom_range=0.2,\n",
    "        horizontal_flip=True)\n",
    "\n",
    "valid_datagen = ImageDataGenerator(\n",
    "        rescale=1./255,\n",
    "        shear_range=0.2,\n",
    "        zoom_range=0.2,\n",
    "        horizontal_flip=True)\n",
    "\n",
    "test_datagen = ImageDataGenerator(rescale=1./255)\n",
    "\n",
    "train_generator = train_datagen.flow_from_directory(\n",
    "        '/floyd/input/hotdog/train',\n",
    "        target_size=(299, 299),\n",
    "        batch_size=32,\n",
    "        class_mode='binary')\n",
    "\n",
    "valid_generator = valid_datagen.flow_from_directory(\n",
    "        '/floyd/input/hotdog/valid',\n",
    "        target_size=(299, 299),\n",
    "        batch_size=32,\n",
    "        class_mode='binary')\n",
    "\n",
    "test_generator = test_datagen.flow_from_directory(\n",
    "        '/floyd/input/hotdog/test',\n",
    "        target_size=(299, 299),\n",
    "        batch_size=32,\n",
    "        class_mode='binary')"
   ]
  },
  {
   "cell_type": "code",
   "execution_count": 4,
   "metadata": {},
   "outputs": [
    {
     "name": "stdout",
     "output_type": "stream",
     "text": [
      "{'hotdog': 0, 'nothotdog': 1}\n",
      "{'hotdog': 0, 'nothotdog': 1}\n",
      "{'hotdog': 0, 'nothotdog': 1}\n"
     ]
    }
   ],
   "source": [
    "print(train_generator.class_indices)\n",
    "print(valid_generator.class_indices)\n",
    "print(test_generator.class_indices)"
   ]
  },
  {
   "cell_type": "code",
   "execution_count": 5,
   "metadata": {},
   "outputs": [],
   "source": [
    "train_steps = train_generator.n // train_generator.batch_size\n",
    "valid_steps = valid_generator.n // valid_generator.batch_size\n",
    "test_steps = test_generator.n // test_generator.batch_size\n"
   ]
  },
  {
   "cell_type": "code",
   "execution_count": 6,
   "metadata": {},
   "outputs": [],
   "source": [
    "checkpointer = ModelCheckpoint(filepath='/floyd/home/weights.hdf5', verbose=1, save_best_only=True)"
   ]
  },
  {
   "cell_type": "markdown",
   "metadata": {},
   "source": [
    "## Defining and training the model"
   ]
  },
  {
   "cell_type": "code",
   "execution_count": 7,
   "metadata": {},
   "outputs": [],
   "source": [
    "model = Sequential()\n",
    "model.add(Conv2D(32, (3, 3), activation='relu', input_shape=(299, 299, 3), padding='same'))\n",
    "model.add(Conv2D(32, (3, 3), activation='relu', padding='same'))\n",
    "model.add(MaxPooling2D(pool_size=(3, 3)))\n",
    "model.add(Dropout(0.25))\n",
    "\n",
    "model.add(Conv2D(64, (3, 3), activation='relu', padding='same'))\n",
    "model.add(Conv2D(64, (3, 3), activation='relu', padding='same'))\n",
    "model.add(MaxPooling2D(pool_size=(2, 2)))\n",
    "model.add(Dropout(0.50))\n",
    "\n",
    "model.add(Flatten())\n",
    "model.add(Dense(512, activation='relu'))\n",
    "model.add(Dropout(0.6))\n",
    "model.add(Dense(256, activation='relu'))\n",
    "model.add(Dropout(0.5))\n",
    "model.add(Dense(1, activation='sigmoid'))"
   ]
  },
  {
   "cell_type": "code",
   "execution_count": 8,
   "metadata": {},
   "outputs": [
    {
     "name": "stdout",
     "output_type": "stream",
     "text": [
      "_________________________________________________________________\n",
      "Layer (type)                 Output Shape              Param #   \n",
      "=================================================================\n",
      "conv2d_1 (Conv2D)            (None, 299, 299, 32)      896       \n",
      "_________________________________________________________________\n",
      "conv2d_2 (Conv2D)            (None, 299, 299, 32)      9248      \n",
      "_________________________________________________________________\n",
      "max_pooling2d_1 (MaxPooling2 (None, 99, 99, 32)        0         \n",
      "_________________________________________________________________\n",
      "dropout_1 (Dropout)          (None, 99, 99, 32)        0         \n",
      "_________________________________________________________________\n",
      "conv2d_3 (Conv2D)            (None, 99, 99, 64)        18496     \n",
      "_________________________________________________________________\n",
      "conv2d_4 (Conv2D)            (None, 99, 99, 64)        36928     \n",
      "_________________________________________________________________\n",
      "max_pooling2d_2 (MaxPooling2 (None, 49, 49, 64)        0         \n",
      "_________________________________________________________________\n",
      "dropout_2 (Dropout)          (None, 49, 49, 64)        0         \n",
      "_________________________________________________________________\n",
      "flatten_1 (Flatten)          (None, 153664)            0         \n",
      "_________________________________________________________________\n",
      "dense_1 (Dense)              (None, 512)               78676480  \n",
      "_________________________________________________________________\n",
      "dropout_3 (Dropout)          (None, 512)               0         \n",
      "_________________________________________________________________\n",
      "dense_2 (Dense)              (None, 256)               131328    \n",
      "_________________________________________________________________\n",
      "dropout_4 (Dropout)          (None, 256)               0         \n",
      "_________________________________________________________________\n",
      "dense_3 (Dense)              (None, 1)                 257       \n",
      "=================================================================\n",
      "Total params: 78,873,633\n",
      "Trainable params: 78,873,633\n",
      "Non-trainable params: 0\n",
      "_________________________________________________________________\n"
     ]
    }
   ],
   "source": [
    "keras.utils.print_summary(model)"
   ]
  },
  {
   "cell_type": "code",
   "execution_count": 9,
   "metadata": {},
   "outputs": [],
   "source": [
    "model.compile(loss='binary_crossentropy', optimizer='adam', metrics=['binary_accuracy'])"
   ]
  },
  {
   "cell_type": "code",
   "execution_count": 10,
   "metadata": {},
   "outputs": [
    {
     "name": "stdout",
     "output_type": "stream",
     "text": [
      "Epoch 1/50\n",
      "84/84 [==============================] - 67s 796ms/step - loss: 0.7775 - binary_accuracy: 0.5210 - val_loss: 0.6738 - val_binary_accuracy: 0.6181\n",
      "\n",
      "Epoch 00001: val_loss improved from inf to 0.67379, saving model to /floyd/home/weights.hdf5\n",
      "Epoch 2/50\n",
      "84/84 [==============================] - 67s 792ms/step - loss: 0.6622 - binary_accuracy: 0.6179 - val_loss: 0.7177 - val_binary_accuracy: 0.6250\n",
      "\n",
      "Epoch 00002: val_loss did not improve from 0.67379\n",
      "Epoch 3/50\n",
      "84/84 [==============================] - 66s 785ms/step - loss: 0.6378 - binary_accuracy: 0.6442 - val_loss: 0.6342 - val_binary_accuracy: 0.6354\n",
      "\n",
      "Epoch 00003: val_loss improved from 0.67379 to 0.63422, saving model to /floyd/home/weights.hdf5\n",
      "Epoch 4/50\n",
      "84/84 [==============================] - 65s 776ms/step - loss: 0.6035 - binary_accuracy: 0.6716 - val_loss: 0.6207 - val_binary_accuracy: 0.6493\n",
      "\n",
      "Epoch 00004: val_loss improved from 0.63422 to 0.62071, saving model to /floyd/home/weights.hdf5\n",
      "Epoch 5/50\n",
      "84/84 [==============================] - 65s 774ms/step - loss: 0.5924 - binary_accuracy: 0.6844 - val_loss: 0.6283 - val_binary_accuracy: 0.6528\n",
      "\n",
      "Epoch 00005: val_loss did not improve from 0.62071\n",
      "Epoch 6/50\n",
      "84/84 [==============================] - 66s 784ms/step - loss: 0.5855 - binary_accuracy: 0.6860 - val_loss: 0.6228 - val_binary_accuracy: 0.6424\n",
      "\n",
      "Epoch 00006: val_loss did not improve from 0.62071\n",
      "Epoch 7/50\n",
      "84/84 [==============================] - 65s 774ms/step - loss: 0.5951 - binary_accuracy: 0.6861 - val_loss: 0.6094 - val_binary_accuracy: 0.6667\n",
      "\n",
      "Epoch 00007: val_loss improved from 0.62071 to 0.60941, saving model to /floyd/home/weights.hdf5\n",
      "Epoch 8/50\n",
      "84/84 [==============================] - 64s 764ms/step - loss: 0.5787 - binary_accuracy: 0.6904 - val_loss: 0.6288 - val_binary_accuracy: 0.6424\n",
      "\n",
      "Epoch 00008: val_loss did not improve from 0.60941\n",
      "Epoch 9/50\n",
      "84/84 [==============================] - 64s 767ms/step - loss: 0.5759 - binary_accuracy: 0.6981 - val_loss: 0.6239 - val_binary_accuracy: 0.6528\n",
      "\n",
      "Epoch 00009: val_loss did not improve from 0.60941\n",
      "Epoch 10/50\n",
      "84/84 [==============================] - 65s 769ms/step - loss: 0.5727 - binary_accuracy: 0.6994 - val_loss: 0.7899 - val_binary_accuracy: 0.6424\n",
      "\n",
      "Epoch 00010: val_loss did not improve from 0.60941\n",
      "Epoch 11/50\n",
      "84/84 [==============================] - 63s 748ms/step - loss: 0.5562 - binary_accuracy: 0.7201 - val_loss: 0.6479 - val_binary_accuracy: 0.6528\n",
      "\n",
      "Epoch 00011: val_loss did not improve from 0.60941\n",
      "Epoch 12/50\n",
      "84/84 [==============================] - 63s 752ms/step - loss: 0.5641 - binary_accuracy: 0.7035 - val_loss: 0.6419 - val_binary_accuracy: 0.6319\n",
      "\n",
      "Epoch 00012: val_loss did not improve from 0.60941\n",
      "Epoch 13/50\n",
      "84/84 [==============================] - 62s 742ms/step - loss: 0.5653 - binary_accuracy: 0.7077 - val_loss: 0.6579 - val_binary_accuracy: 0.6736\n",
      "\n",
      "Epoch 00013: val_loss did not improve from 0.60941\n",
      "Epoch 14/50\n",
      "84/84 [==============================] - 63s 747ms/step - loss: 0.5532 - binary_accuracy: 0.7288 - val_loss: 0.6116 - val_binary_accuracy: 0.6944\n",
      "\n",
      "Epoch 00014: val_loss did not improve from 0.60941\n",
      "Epoch 15/50\n",
      "84/84 [==============================] - 62s 741ms/step - loss: 0.5629 - binary_accuracy: 0.7159 - val_loss: 0.6110 - val_binary_accuracy: 0.6979\n",
      "\n",
      "Epoch 00015: val_loss did not improve from 0.60941\n",
      "Epoch 16/50\n",
      "84/84 [==============================] - 62s 736ms/step - loss: 0.5581 - binary_accuracy: 0.7101 - val_loss: 0.5882 - val_binary_accuracy: 0.7153\n",
      "\n",
      "Epoch 00016: val_loss improved from 0.60941 to 0.58816, saving model to /floyd/home/weights.hdf5\n",
      "Epoch 17/50\n",
      "84/84 [==============================] - 62s 734ms/step - loss: 0.5643 - binary_accuracy: 0.7139 - val_loss: 0.5901 - val_binary_accuracy: 0.7014\n",
      "\n",
      "Epoch 00017: val_loss did not improve from 0.58816\n",
      "Epoch 18/50\n",
      "84/84 [==============================] - 61s 731ms/step - loss: 0.5417 - binary_accuracy: 0.7277 - val_loss: 0.5979 - val_binary_accuracy: 0.6736\n",
      "\n",
      "Epoch 00018: val_loss did not improve from 0.58816\n",
      "Epoch 19/50\n",
      "84/84 [==============================] - 62s 740ms/step - loss: 0.5438 - binary_accuracy: 0.7340 - val_loss: 0.5898 - val_binary_accuracy: 0.6875\n",
      "\n",
      "Epoch 00019: val_loss did not improve from 0.58816\n",
      "Epoch 20/50\n",
      "84/84 [==============================] - 62s 736ms/step - loss: 0.5470 - binary_accuracy: 0.7236 - val_loss: 0.6348 - val_binary_accuracy: 0.6562\n",
      "\n",
      "Epoch 00020: val_loss did not improve from 0.58816\n",
      "Epoch 21/50\n",
      "84/84 [==============================] - 61s 724ms/step - loss: 0.5263 - binary_accuracy: 0.7294 - val_loss: 0.6113 - val_binary_accuracy: 0.6597\n",
      "\n",
      "Epoch 00021: val_loss did not improve from 0.58816\n",
      "Epoch 22/50\n",
      "84/84 [==============================] - 61s 724ms/step - loss: 0.5398 - binary_accuracy: 0.7355 - val_loss: 0.6055 - val_binary_accuracy: 0.7014\n",
      "\n",
      "Epoch 00022: val_loss did not improve from 0.58816\n",
      "Epoch 23/50\n",
      "84/84 [==============================] - 61s 723ms/step - loss: 0.5279 - binary_accuracy: 0.7370 - val_loss: 0.6046 - val_binary_accuracy: 0.6910\n",
      "\n",
      "Epoch 00023: val_loss did not improve from 0.58816\n",
      "Epoch 24/50\n",
      "84/84 [==============================] - 61s 724ms/step - loss: 0.5303 - binary_accuracy: 0.7469 - val_loss: 0.6039 - val_binary_accuracy: 0.6944\n",
      "\n",
      "Epoch 00024: val_loss did not improve from 0.58816\n",
      "Epoch 25/50\n",
      "84/84 [==============================] - 60s 713ms/step - loss: 0.5233 - binary_accuracy: 0.7461 - val_loss: 0.6044 - val_binary_accuracy: 0.6944\n",
      "\n",
      "Epoch 00025: val_loss did not improve from 0.58816\n",
      "Epoch 26/50\n",
      "84/84 [==============================] - 61s 728ms/step - loss: 0.5159 - binary_accuracy: 0.7447 - val_loss: 0.5826 - val_binary_accuracy: 0.7153\n",
      "\n",
      "Epoch 00026: val_loss improved from 0.58816 to 0.58257, saving model to /floyd/home/weights.hdf5\n",
      "Epoch 27/50\n",
      "84/84 [==============================] - 61s 723ms/step - loss: 0.5121 - binary_accuracy: 0.7443 - val_loss: 0.6216 - val_binary_accuracy: 0.7049\n",
      "\n",
      "Epoch 00027: val_loss did not improve from 0.58257\n",
      "Epoch 28/50\n",
      "84/84 [==============================] - 60s 716ms/step - loss: 0.5144 - binary_accuracy: 0.7516 - val_loss: 0.5905 - val_binary_accuracy: 0.7049\n",
      "\n",
      "Epoch 00028: val_loss did not improve from 0.58257\n",
      "Epoch 29/50\n",
      "84/84 [==============================] - 61s 720ms/step - loss: 0.5100 - binary_accuracy: 0.7495 - val_loss: 0.6181 - val_binary_accuracy: 0.7049\n",
      "\n",
      "Epoch 00029: val_loss did not improve from 0.58257\n",
      "Epoch 30/50\n",
      "84/84 [==============================] - 61s 726ms/step - loss: 0.5036 - binary_accuracy: 0.7626 - val_loss: 0.5848 - val_binary_accuracy: 0.7153\n",
      "\n",
      "Epoch 00030: val_loss did not improve from 0.58257\n",
      "Epoch 31/50\n",
      "84/84 [==============================] - 61s 725ms/step - loss: 0.5017 - binary_accuracy: 0.7503 - val_loss: 0.6053 - val_binary_accuracy: 0.7188\n",
      "\n",
      "Epoch 00031: val_loss did not improve from 0.58257\n",
      "Epoch 32/50\n",
      "84/84 [==============================] - 60s 716ms/step - loss: 0.4967 - binary_accuracy: 0.7607 - val_loss: 0.5790 - val_binary_accuracy: 0.7431\n",
      "\n",
      "Epoch 00032: val_loss improved from 0.58257 to 0.57897, saving model to /floyd/home/weights.hdf5\n",
      "Epoch 33/50\n",
      "84/84 [==============================] - 61s 722ms/step - loss: 0.4906 - binary_accuracy: 0.7605 - val_loss: 0.6108 - val_binary_accuracy: 0.6910\n",
      "\n",
      "Epoch 00033: val_loss did not improve from 0.57897\n",
      "Epoch 34/50\n",
      "84/84 [==============================] - 61s 726ms/step - loss: 0.4969 - binary_accuracy: 0.7574 - val_loss: 0.6235 - val_binary_accuracy: 0.7188\n",
      "\n",
      "Epoch 00034: val_loss did not improve from 0.57897\n",
      "Epoch 35/50\n",
      "84/84 [==============================] - 60s 719ms/step - loss: 0.4773 - binary_accuracy: 0.7711 - val_loss: 0.6234 - val_binary_accuracy: 0.6910\n",
      "\n",
      "Epoch 00035: val_loss did not improve from 0.57897\n",
      "Epoch 36/50\n",
      "84/84 [==============================] - 60s 714ms/step - loss: 0.4839 - binary_accuracy: 0.7679 - val_loss: 0.5662 - val_binary_accuracy: 0.7222\n",
      "\n",
      "Epoch 00036: val_loss improved from 0.57897 to 0.56616, saving model to /floyd/home/weights.hdf5\n",
      "Epoch 37/50\n",
      "84/84 [==============================] - 61s 722ms/step - loss: 0.4847 - binary_accuracy: 0.7695 - val_loss: 0.6248 - val_binary_accuracy: 0.7049\n",
      "\n",
      "Epoch 00037: val_loss did not improve from 0.56616\n",
      "Epoch 38/50\n",
      "84/84 [==============================] - 61s 721ms/step - loss: 0.4772 - binary_accuracy: 0.7738 - val_loss: 0.5906 - val_binary_accuracy: 0.7049\n",
      "\n",
      "Epoch 00038: val_loss did not improve from 0.56616\n",
      "Epoch 39/50\n",
      "84/84 [==============================] - 61s 725ms/step - loss: 0.4756 - binary_accuracy: 0.7701 - val_loss: 0.6288 - val_binary_accuracy: 0.7465\n",
      "\n",
      "Epoch 00039: val_loss did not improve from 0.56616\n",
      "Epoch 40/50\n",
      "84/84 [==============================] - 60s 717ms/step - loss: 0.4772 - binary_accuracy: 0.7695 - val_loss: 0.6003 - val_binary_accuracy: 0.7188\n",
      "\n",
      "Epoch 00040: val_loss did not improve from 0.56616\n",
      "Epoch 41/50\n",
      "84/84 [==============================] - 59s 705ms/step - loss: 0.4500 - binary_accuracy: 0.7862 - val_loss: 0.6192 - val_binary_accuracy: 0.7257\n",
      "\n",
      "Epoch 00041: val_loss did not improve from 0.56616\n",
      "Epoch 42/50\n",
      "84/84 [==============================] - 61s 721ms/step - loss: 0.4692 - binary_accuracy: 0.7887 - val_loss: 0.6041 - val_binary_accuracy: 0.7049\n",
      "\n",
      "Epoch 00042: val_loss did not improve from 0.56616\n",
      "Epoch 43/50\n",
      "84/84 [==============================] - 60s 711ms/step - loss: 0.4685 - binary_accuracy: 0.7734 - val_loss: 0.6359 - val_binary_accuracy: 0.7188\n",
      "\n",
      "Epoch 00043: val_loss did not improve from 0.56616\n",
      "Epoch 44/50\n",
      "84/84 [==============================] - 60s 719ms/step - loss: 0.4612 - binary_accuracy: 0.7772 - val_loss: 0.6168 - val_binary_accuracy: 0.7153\n",
      "\n",
      "Epoch 00044: val_loss did not improve from 0.56616\n",
      "Epoch 45/50\n",
      "84/84 [==============================] - 61s 720ms/step - loss: 0.4474 - binary_accuracy: 0.7928 - val_loss: 0.6238 - val_binary_accuracy: 0.7222\n",
      "\n",
      "Epoch 00045: val_loss did not improve from 0.56616\n",
      "Epoch 46/50\n",
      "84/84 [==============================] - 60s 710ms/step - loss: 0.4295 - binary_accuracy: 0.8012 - val_loss: 0.7459 - val_binary_accuracy: 0.7257\n",
      "\n",
      "Epoch 00046: val_loss did not improve from 0.56616\n",
      "Epoch 47/50\n",
      "84/84 [==============================] - 62s 735ms/step - loss: 0.4585 - binary_accuracy: 0.7774 - val_loss: 0.6111 - val_binary_accuracy: 0.7153\n",
      "\n",
      "Epoch 00047: val_loss did not improve from 0.56616\n",
      "Epoch 48/50\n",
      "84/84 [==============================] - 61s 724ms/step - loss: 0.4313 - binary_accuracy: 0.7987 - val_loss: 0.6382 - val_binary_accuracy: 0.7500\n",
      "\n",
      "Epoch 00048: val_loss did not improve from 0.56616\n",
      "Epoch 49/50\n",
      "84/84 [==============================] - 61s 721ms/step - loss: 0.4239 - binary_accuracy: 0.7980 - val_loss: 0.6100 - val_binary_accuracy: 0.7118\n",
      "\n",
      "Epoch 00049: val_loss did not improve from 0.56616\n",
      "Epoch 50/50\n",
      "84/84 [==============================] - 61s 723ms/step - loss: 0.4401 - binary_accuracy: 0.8083 - val_loss: 0.6394 - val_binary_accuracy: 0.7153\n",
      "\n",
      "Epoch 00050: val_loss did not improve from 0.56616\n"
     ]
    }
   ],
   "source": [
    "history = model.fit_generator(\n",
    "        train_generator,\n",
    "        steps_per_epoch=train_steps,\n",
    "        epochs=50,\n",
    "        validation_data=valid_generator,\n",
    "        validation_steps=valid_steps,\n",
    "        verbose=1,\n",
    "        callbacks=[checkpointer])"
   ]
  },
  {
   "cell_type": "code",
   "execution_count": 11,
   "metadata": {},
   "outputs": [],
   "source": [
    "model.load_weights('/floyd/home/weights.hdf5')"
   ]
  },
  {
   "cell_type": "markdown",
   "metadata": {},
   "source": [
    "## Metrics(Accuracy) and plots(training/validation accuracy and loss)"
   ]
  },
  {
   "cell_type": "code",
   "execution_count": 12,
   "metadata": {},
   "outputs": [
    {
     "name": "stdout",
     "output_type": "stream",
     "text": [
      "20/20 [==============================] - 3s 172ms/step\n"
     ]
    },
    {
     "data": {
      "text/plain": [
       "[0.5938041627407074, 0.7109375]"
      ]
     },
     "execution_count": 12,
     "metadata": {},
     "output_type": "execute_result"
    }
   ],
   "source": [
    "model.evaluate_generator(test_generator, verbose=1, steps=test_steps)"
   ]
  },
  {
   "cell_type": "code",
   "execution_count": 13,
   "metadata": {},
   "outputs": [
    {
     "data": {
      "image/png": "[encoded data removed]",
      "text/plain": [
       "<Figure size 432x288 with 1 Axes>"
      ]
     },
     "metadata": {},
     "output_type": "display_data"
    }
   ],
   "source": [
    "# summarize history for accuracy\n",
    "plt.plot(history.history['binary_accuracy'] )\n",
    "plt.plot(history.history['val_binary_accuracy'])\n",
    "plt.title('model accuracy  ')\n",
    "plt.ylabel('accuracy')\n",
    "plt.xlabel('epoch')\n",
    "plt.legend(['train', 'val'], loc='upper left')\n",
    "plt.show()"
   ]
  },
  {
   "cell_type": "code",
   "execution_count": 14,
   "metadata": {},
   "outputs": [
    {
     "data": {
      "image/png": "[encoded data removed]",
      "text/plain": [
       "<Figure size 432x288 with 1 Axes>"
      ]
     },
     "metadata": {},
     "output_type": "display_data"
    }
   ],
   "source": [
    "# summarize history for loss\n",
    "plt.plot(history.history['loss'] )\n",
    "plt.plot(history.history['val_loss'])\n",
    "plt.title('model loss')\n",
    "plt.ylabel('loss')\n",
    "plt.xlabel('epoch')\n",
    "plt.legend(['train', 'val'], loc='upper left')\n",
    "plt.show()"
   ]
  }
 ],
 "metadata": {
  "kernelspec": {
   "display_name": "Python 3",
   "language": "python",
   "name": "python3"
  },
  "language_info": {
   "codemirror_mode": {
    "name": "ipython",
    "version": 3
   },
   "file_extension": ".py",
   "mimetype": "text/x-python",
   "name": "python",
   "nbconvert_exporter": "python",
   "pygments_lexer": "ipython3",
   "version": "3.6.5"
  }
 },
 "nbformat": 4,
 "nbformat_minor": 2
}
